{
  "nbformat": 4,
  "nbformat_minor": 0,
  "metadata": {
    "colab": {
      "name": "inversion de dependencia_juanArce.ipynb",
      "provenance": []
    },
    "kernelspec": {
      "name": "python3",
      "display_name": "Python 3"
    },
    "language_info": {
      "name": "python"
    }
  },
  "cells": [
    {
      "cell_type": "code",
      "execution_count": 3,
      "metadata": {
        "colab": {
          "base_uri": "https://localhost:8080/"
        },
        "id": "NPR2n46AU2hl",
        "outputId": "1981c07c-a796-454a-ef72-d83866a8b330"
      },
      "outputs": [
        {
          "output_type": "stream",
          "name": "stdout",
          "text": [
            "robotic_arm: going up...\n",
            "robotic_arm: going down...\n"
          ]
        }
      ],
      "source": [
        "from abc import ABC, abstractmethod\n",
        "\n",
        "\n",
        "class Button(ABC):\n",
        "    @abstractmethod\n",
        "    def go_down(self):\n",
        "        pass\n",
        "\n",
        "    @abstractmethod\n",
        "    def go_up(self):\n",
        "        pass\n",
        "\n",
        "\n",
        "class Elevator(Button):\n",
        "    def go_down(self):\n",
        "        print(\"Elevator: going down...\")\n",
        "\n",
        "    def go_up(self):\n",
        "        print(\"Elevator: going up...\")\n",
        "\n",
        "\n",
        "class Robotic_arm(Button):\n",
        "    def go_down(self):\n",
        "        print(\"robotic_arm: going down...\")\n",
        "\n",
        "    def go_up(self):\n",
        "        print(\"robotic_arm: going up...\")\n",
        "\n",
        "\n",
        "class All_purpose_button:\n",
        "\n",
        "    def __init__(self, b: Button):\n",
        "        self.user = b\n",
        "        self.down = False\n",
        "\n",
        "    def press(self):\n",
        "        if self.down:\n",
        "            self.user.go_down()\n",
        "            self.down = False\n",
        "        else:\n",
        "            self.user.go_up()\n",
        "            self.down = True\n",
        "\n",
        "\n",
        "e = Elevator()\n",
        "ra = Robotic_arm()\n",
        "switch = All_purpose_button(ra)\n",
        "switch.press()\n",
        "switch.press()"
      ]
    }
  ]
}