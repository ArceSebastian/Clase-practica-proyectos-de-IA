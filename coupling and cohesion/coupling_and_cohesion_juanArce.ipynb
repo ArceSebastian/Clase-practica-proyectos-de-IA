{
  "nbformat": 4,
  "nbformat_minor": 0,
  "metadata": {
    "colab": {
      "name": "coupling and cohesion_juanArce.ipynb",
      "provenance": []
    },
    "kernelspec": {
      "name": "python3",
      "display_name": "Python 3"
    },
    "language_info": {
      "name": "python"
    }
  },
  "cells": [
    {
      "cell_type": "code",
      "execution_count": 22,
      "metadata": {
        "colab": {
          "base_uri": "https://localhost:8080/"
        },
        "id": "10xadrghyNsM",
        "outputId": "fdd45fe3-a063-4259-f232-6d80ecd8d876"
      },
      "outputs": [
        {
          "output_type": "stream",
          "name": "stdout",
          "text": [
            "serial: UOWMUTHZHRUG\n",
            "model_name: UO-15-PB\n",
            "label: ACER\n",
            "delivery charge: 2250.0\n"
          ]
        }
      ],
      "source": [
        "import string\n",
        "import random\n",
        "\n",
        "class computerData:\n",
        "    \n",
        "    def __init__(self, label, ssd, onlineshop_price):\n",
        "        self.label = label\n",
        "        self.ssd = ssd\n",
        "        self.onlineshop_price = onlineshop_price\n",
        "\n",
        "    def delivery_fare(self):\n",
        "        dev_charge = 0.05\n",
        "        if self.ssd:\n",
        "            dev_charge = 0.02\n",
        "        return dev_charge * self.onlineshop_price\n",
        "\n",
        "    def print(self):\n",
        "        print(f\"label: {self.label}\")\n",
        "        print(f\"delivery charge: {self.delivery_fare()}\")\n",
        "\n",
        "class computer:\n",
        "\n",
        "    def __init__(self, serial, model_name, info):\n",
        "        self.serial = serial\n",
        "        self.model_name = model_name\n",
        "        self.info = info\n",
        "\n",
        "    def print(self):\n",
        "        print(f\"serial: {self.serial}\")\n",
        "        print(f\"model_name: {self.model_name}\")\n",
        "        self.info.print()\n",
        "\n",
        "\n",
        "class ComputerRecord:\n",
        "\n",
        "    def __init__(self):\n",
        "        self.computer_info = { }\n",
        "        self.add_computer_info(\"Asus vivobook\", True, 60000)\n",
        "        self.add_computer_info(\"HP victus\", True, 35000)\n",
        "        self.add_computer_info(\"ACER\", False, 45000)\n",
        "        self.add_computer_info(\"MSI\", True, 75000)\n",
        "\n",
        "    def add_computer_info(self, label, ssd, onlineshop_price):\n",
        "        self.computer_info[label] = computerData(label, ssd, onlineshop_price)\n",
        "\n",
        "    def create_code(self, length):\n",
        "        return ''.join(random.choices(string.ascii_uppercase, k=length))\n",
        "\n",
        "    def create_cmodel_name(self, serial):\n",
        "        return f\"{serial[:2]}-{''.join(random.choices(string.digits, k=2))}-{''.join(random.choices(string.ascii_uppercase, k=2))}\"\n",
        "\n",
        "    def generate_computer(self, label):\n",
        "        serial = self.create_code(12)\n",
        "        model_name = self.create_cmodel_name(serial)\n",
        "        return computer(serial, model_name, self.computer_info[label])\n",
        "\n",
        "\n",
        "class develop:\n",
        "\n",
        "    def record_computer(self, label: string):\n",
        "        # create a record instance\n",
        "        record = ComputerRecord()\n",
        "\n",
        "        computer = record.generate_computer(label)\n",
        "\n",
        "        # print out the computer information\n",
        "        computer.print()\n",
        "\n",
        "dev = develop()\n",
        "dev.record_computer(\"ACER\")"
      ]
    }
  ]
}